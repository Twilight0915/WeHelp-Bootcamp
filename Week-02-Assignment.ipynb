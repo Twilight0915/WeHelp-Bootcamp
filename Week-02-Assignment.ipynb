{
  "nbformat": 4,
  "nbformat_minor": 0,
  "metadata": {
    "colab": {
      "provenance": [],
      "collapsed_sections": [],
      "authorship_tag": "ABX9TyPh294JM63hs05g5A0CKY3+",
      "include_colab_link": true
    },
    "kernelspec": {
      "name": "python3",
      "display_name": "Python 3"
    },
    "language_info": {
      "name": "python"
    }
  },
  "cells": [
    {
      "cell_type": "markdown",
      "metadata": {
        "id": "view-in-github",
        "colab_type": "text"
      },
      "source": [
        "<a href=\"https://colab.research.google.com/github/Twilight0915/WeHelp-Bootcamp/blob/main/Week-02-Assignment.ipynb\" target=\"_parent\"><img src=\"https://colab.research.google.com/assets/colab-badge.svg\" alt=\"Open In Colab\"/></a>"
      ]
    },
    {
      "cell_type": "code",
      "execution_count": 58,
      "metadata": {
        "colab": {
          "base_uri": "https://localhost:8080/"
        },
        "id": "FRGmDq2lZNO1",
        "outputId": "c911f9fd-4ef9-4da0-d12c-c5213c1a491d"
      },
      "outputs": [
        {
          "output_type": "stream",
          "name": "stdout",
          "text": [
            "6\n",
            "18\n",
            "0\n"
          ]
        }
      ],
      "source": [
        "# 要求一：函式與流程控制\n",
        "# 完成以下函式，在函式中使用迴圈計算最小值到最大值之間，固定間隔的整數總和。其中你可\n",
        "# 以假設 max 一定大於 min 且為整數，step 為正整數。\n",
        "\n",
        "\n",
        "def calculate(min, max, step):\n",
        "  i = min\n",
        "  sum = 0\n",
        "  while i <= max:\n",
        "    sum = sum + i\n",
        "    i = i + step\n",
        "  print(sum)\n",
        "\n",
        "\n",
        "calculate(1, 3, 1) # 你的程式要能夠計算 1+2+3，最後印出 6\n",
        "calculate(4, 8, 2) # 你的程式要能夠計算 4+6+8，最後印出 18\n",
        "calculate(-1, 2, 2) # 你的程式要能夠計算 -1+1，最後印出 0\n",
        "\n",
        "\n"
      ]
    },
    {
      "cell_type": "code",
      "source": [
        "# 要求二：Python 字典與列表、JavaScript 物件與陣列\n",
        "# 完成以下函式，正確計算出非 manager 的員工平均薪資，所謂非 manager 就是在資料中\n",
        "# manager 欄位標註為 False (Python) 或 false (JavaScript) 的員工，程式需考慮員工資料數量\n",
        "# 不定的情況。\n",
        "\n",
        "def avg(data):\n",
        "  # 抓出所有manager == False 的員工\n",
        "  # 迴圈跑每一個員工的資料\n",
        "  # data => dictionary字典        # dict[key] = value   \n",
        "  # data[\"employees\"] \n",
        "  # 平均薪資 = 總薪資/人數\n",
        "  nmSalaryTotal = 0 \n",
        "  nmPersonNum = 0\n",
        "  # 每一迴圈i代入一個員工\n",
        "  for i in data[\"employees\"]:\n",
        "    if i[\"manager\"] == False:\n",
        "      nmSalaryTotal = nmSalaryTotal + i[\"salary\"]\n",
        "      nmPersonNum = nmPersonNum + 1\n",
        "  print(nmSalaryTotal/nmPersonNum)\n",
        "\n",
        "\n",
        "avg({\n",
        "\"employees\":[\n",
        "{\n",
        "\"name\":\"John\",\n",
        "\"salary\":30000,\n",
        "\"manager\":False\n",
        "},\n",
        "{\n",
        "\"name\":\"Bob\",\n",
        "\"salary\":60000,\n",
        "\"manager\":True\n",
        "},\n",
        "{\n",
        "\"name\":\"Jenny\",\n",
        "\"salary\":50000,\n",
        "\"manager\":False\n",
        "},\n",
        "{\n",
        "\"name\":\"Tony\",\n",
        "\"salary\":40000,\n",
        "\"manager\":False\n",
        "}\n",
        "]\n",
        "}) # 呼叫 avg 函式"
      ],
      "metadata": {
        "colab": {
          "base_uri": "https://localhost:8080/"
        },
        "id": "NBnAJO2bZwzT",
        "outputId": "dde76b91-c265-4b7e-956b-a1fa59d7f659"
      },
      "execution_count": 59,
      "outputs": [
        {
          "output_type": "stream",
          "name": "stdout",
          "text": [
            "40000.0\n"
          ]
        }
      ]
    },
    {
      "cell_type": "code",
      "source": [
        "# 要求三：\n",
        "# 完成以下函式，最後能印出程式中註解所描述的結果。\n",
        "\n",
        "\n",
        "\n",
        "def func(a):\n",
        "  def calculate(b, c):\n",
        "    print(a+(b*c))\n",
        "  return calculate\n",
        "  \n",
        "  \n",
        "\n",
        "func(2)(3, 4) # 你補完的函式能印出 2+(3*4) 的結果 14\n",
        "func(5)(1, -5) # 你補完的函式能印出 5+(1*-5) 的結果 0\n",
        "func(-3)(2, 9) # 你補完的函式能印出 -3+(2*9) 的結果 15\n",
        "# 一般形式為 func(a)(b, c) 要印出 a+(b*c) 的結果"
      ],
      "metadata": {
        "colab": {
          "base_uri": "https://localhost:8080/"
        },
        "id": "gRvWz8leaH3L",
        "outputId": "39761aae-9ede-490c-817d-43f5989f88d9"
      },
      "execution_count": 60,
      "outputs": [
        {
          "output_type": "stream",
          "name": "stdout",
          "text": [
            "14\n",
            "0\n",
            "15\n"
          ]
        }
      ]
    },
    {
      "cell_type": "code",
      "source": [
        "# 要求四：\n",
        "# 找出至少包含兩筆整數的列表 (Python) 或陣列 (JavaScript) 中，兩兩數字相乘後的最大值。\n",
        "\n",
        "\n",
        "def maxProduct(nums):\n",
        "  length = len(nums)\n",
        "  for i in range(length):\n",
        "    minIndex = i\n",
        "    for j in range(i+1, length):\n",
        "      if nums[j] < nums[minIndex]:\n",
        "        minIndex = j\n",
        "    if minIndex != i:\n",
        "      nums[i], nums[minIndex] = nums[minIndex], nums[i]\n",
        "  n1 = nums[0]*nums[1]; \n",
        "  n2 = nums[length-1]*nums[length-2]; \n",
        "  if n1 < n2:\n",
        "    print(n2)\n",
        "  else:\n",
        "    print(n1)\n",
        "\n",
        "\n",
        "maxProduct([5, 20, 2, 6]) # 得到 120\n",
        "maxProduct([10, -20, 0, 3]) # 得到 30\n",
        "maxProduct([10, -20, 0, -3]) # 得到 60\n",
        "maxProduct([-1, 2]) # 得到 -2\n",
        "maxProduct([-1, 0, 2]) # 得到 0\n",
        "maxProduct([5,-1, -2, 0]) # 得到 2\n",
        "maxProduct([-5, -2]) # 得到 10"
      ],
      "metadata": {
        "colab": {
          "base_uri": "https://localhost:8080/"
        },
        "id": "pIx1zii4aMzT",
        "outputId": "58e29181-75e3-4250-e46a-f27791047d03"
      },
      "execution_count": 61,
      "outputs": [
        {
          "output_type": "stream",
          "name": "stdout",
          "text": [
            "120\n",
            "30\n",
            "60\n",
            "-2\n",
            "0\n",
            "2\n",
            "10\n"
          ]
        }
      ]
    },
    {
      "cell_type": "code",
      "source": [
        "# 要求五：\n",
        "# Given an array of integers, show indices of the two numbers such that they add up to a\n",
        "# specific target. You can assume that each input would have exactly one solution, and you\n",
        "# can not use the same element twice.\n",
        "\n",
        "\n",
        "\n",
        "def twoSum(nums, target):\n",
        "  length = len(nums)\n",
        "  for i in range(length):\n",
        "    goal = target - nums[i];\n",
        "    for j in range(length):\n",
        "      if nums[j] == goal:\n",
        "        return [i, j]\n",
        "\n",
        "\n",
        "result=twoSum([2, 11, 7, 15], 9)\n",
        "print(result) # show [0, 2] because nums[0]+nums[2] is 9"
      ],
      "metadata": {
        "colab": {
          "base_uri": "https://localhost:8080/"
        },
        "id": "g9FRgOeMaZO7",
        "outputId": "273094e5-579b-413f-ee0d-01dbc2ad16b6"
      },
      "execution_count": 62,
      "outputs": [
        {
          "output_type": "stream",
          "name": "stdout",
          "text": [
            "[0, 2]\n"
          ]
        }
      ]
    }
  ]
}